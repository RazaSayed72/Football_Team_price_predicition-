{
 "cells": [
  {
   "cell_type": "code",
   "execution_count": 1,
   "id": "38062bb4",
   "metadata": {},
   "outputs": [],
   "source": [
    "# Create the Streamlit app script\n",
    "with open('app.py', 'w') as f:\n",
    "    f.write('''\n",
    "import pickle\n",
    "import pandas as pd\n",
    "import streamlit as st\n",
    "\n",
    "# Load your trained model\n",
    "with open('regressor_model.pkl', 'rb') as file:\n",
    "    model = pickle.load(file)\n",
    "\n",
    "# Load the scaler\n",
    "with open('scaler.pkl', 'rb') as file:\n",
    "    scaler = pickle.load(file)\n",
    "\n",
    "def predict_value(input_data):\n",
    "    # Assume input_data is a dictionary of features\n",
    "    df = pd.DataFrame([input_data])\n",
    "    scaled_data = scaler.transform(df)\n",
    "    prediction = model.predict(scaled_data)\n",
    "    return prediction[0]\n",
    "\n",
    "# Streamlit interface\n",
    "st.title('Value Prediction')\n",
    "st.write(\"Enter the details to predict the value:\")\n",
    "\n",
    "# Collect user input\n",
    "input_data = {}\n",
    "input_data['club'] = st.number_input('Club', min_value=0, max_value=19, value=9)\n",
    "input_data['age'] = st.number_input('Age', min_value=17, max_value=38, value=26)\n",
    "input_data['position'] = st.number_input('Position', min_value=0, max_value=12, value=4)\n",
    "input_data['position_cat'] = st.number_input('Position Category', min_value=1, max_value=4, value=2)\n",
    "input_data['market_value'] = st.number_input('Market Value', min_value=0.05, max_value=75000000.0, value=1100000.0, step=100000.0)\n",
    "input_data['page_views'] = st.number_input('Page Views', min_value=3, max_value=7664, value=764)\n",
    "input_data['fpl_value'] = st.number_input('FPL Value', min_value=4, max_value=13, value=6)\n",
    "input_data['fpl_sel'] = st.number_input('FPL Selection', min_value=0, max_value=1000, value=34)\n",
    "input_data['fpl_points'] = st.number_input('FPL Points', min_value=0, max_value=264, value=51)\n",
    "input_data['region'] = st.number_input('Region', min_value=0, max_value=4, value=2)\n",
    "input_data['nationality'] = st.number_input('Nationality', min_value=0, max_value=60, value=27)\n",
    "input_data['new_foreign'] = st.selectbox('New Foreign', [0, 1])\n",
    "input_data['age_cat'] = st.number_input('Age Category', min_value=1, max_value=3, value=2)\n",
    "input_data['club_id'] = st.number_input('Club ID', min_value=1, max_value=20, value=10)\n",
    "input_data['big_club'] = st.selectbox('Big Club', [0, 1])\n",
    "input_data['new_signing'] = st.selectbox('New Signing', [0, 1])\n",
    "\n",
    "# Predict and display result\n",
    "if st.button('Predict'):\n",
    "    result = predict_value(input_data)\n",
    "    st.write(f'Predicted Value: {result}')\n",
    "''')\n"
   ]
  },
  {
   "cell_type": "code",
   "execution_count": null,
   "id": "520d7f7e",
   "metadata": {},
   "outputs": [],
   "source": []
  }
 ],
 "metadata": {
  "kernelspec": {
   "display_name": "Python 3 (ipykernel)",
   "language": "python",
   "name": "python3"
  },
  "language_info": {
   "codemirror_mode": {
    "name": "ipython",
    "version": 3
   },
   "file_extension": ".py",
   "mimetype": "text/x-python",
   "name": "python",
   "nbconvert_exporter": "python",
   "pygments_lexer": "ipython3",
   "version": "3.11.4"
  }
 },
 "nbformat": 4,
 "nbformat_minor": 5
}
